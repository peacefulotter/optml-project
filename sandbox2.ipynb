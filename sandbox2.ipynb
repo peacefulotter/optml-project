{
 "cells": [
  {
   "cell_type": "code",
   "execution_count": 1,
   "metadata": {},
   "outputs": [
    {
     "name": "stderr",
     "output_type": "stream",
     "text": [
      "/home/nguyenan1/.local/lib/python3.10/site-packages/tqdm/auto.py:21: TqdmWarning: IProgress not found. Please update jupyter and ipywidgets. See https://ipywidgets.readthedocs.io/en/stable/user_install.html\n",
      "  from .autonotebook import tqdm as notebook_tqdm\n",
      "Failed to detect the name of this notebook, you can set it manually with the WANDB_NOTEBOOK_NAME environment variable to enable code saving.\n",
      "\u001b[34m\u001b[1mwandb\u001b[0m: Currently logged in as: \u001b[33manhduongnguyen01\u001b[0m (\u001b[33msouth-pole\u001b[0m). Use \u001b[1m`wandb login --relogin`\u001b[0m to force relogin\n"
     ]
    },
    {
     "data": {
      "text/html": [
       "wandb version 0.15.4 is available!  To upgrade, please run:\n",
       " $ pip install wandb --upgrade"
      ],
      "text/plain": [
       "<IPython.core.display.HTML object>"
      ]
     },
     "metadata": {},
     "output_type": "display_data"
    },
    {
     "data": {
      "text/html": [
       "Tracking run with wandb version 0.15.3"
      ],
      "text/plain": [
       "<IPython.core.display.HTML object>"
      ]
     },
     "metadata": {},
     "output_type": "display_data"
    },
    {
     "data": {
      "text/html": [
       "Run data is saved locally in <code>/home/nguyenan1/git-repositories/epfl/optml-project/wandb/run-20230608_234408-t6ygtuxx</code>"
      ],
      "text/plain": [
       "<IPython.core.display.HTML object>"
      ]
     },
     "metadata": {},
     "output_type": "display_data"
    },
    {
     "data": {
      "text/html": [
       "Syncing run <strong><a href='https://wandb.ai/south-pole/optml-project/runs/t6ygtuxx' target=\"_blank\">New test wandb</a></strong> to <a href='https://wandb.ai/south-pole/optml-project' target=\"_blank\">Weights & Biases</a> (<a href='https://wandb.me/run' target=\"_blank\">docs</a>)<br/>"
      ],
      "text/plain": [
       "<IPython.core.display.HTML object>"
      ]
     },
     "metadata": {},
     "output_type": "display_data"
    },
    {
     "data": {
      "text/html": [
       " View project at <a href='https://wandb.ai/south-pole/optml-project' target=\"_blank\">https://wandb.ai/south-pole/optml-project</a>"
      ],
      "text/plain": [
       "<IPython.core.display.HTML object>"
      ]
     },
     "metadata": {},
     "output_type": "display_data"
    },
    {
     "data": {
      "text/html": [
       " View run at <a href='https://wandb.ai/south-pole/optml-project/runs/t6ygtuxx' target=\"_blank\">https://wandb.ai/south-pole/optml-project/runs/t6ygtuxx</a>"
      ],
      "text/plain": [
       "<IPython.core.display.HTML object>"
      ]
     },
     "metadata": {},
     "output_type": "display_data"
    },
    {
     "name": "stderr",
     "output_type": "stream",
     "text": [
      "Found cached dataset tiny_shakespeare (/home/nguyenan1/.cache/huggingface/datasets/tiny_shakespeare/default/1.0.0/b5b13969f09fe8707337f6cb296314fbe06960bd9a868dca39e713e163d27b5e)\n",
      "100%|██████████| 3/3 [00:00<00:00, 1281.88it/s]\n"
     ]
    }
   ],
   "source": [
    "from datasets import load_dataset, DatasetDict, Value\n",
    "from transformers import DataCollatorForLanguageModeling\n",
    "from transformers import AutoTokenizer, GPT2LMHeadModel, AutoConfig , BertForMaskedLM\n",
    "from transformers import GPT2Config, BertConfig\n",
    "from transformers import Trainer, TrainingArguments\n",
    "from torch.cuda import empty_cache\n",
    "import wandb\n",
    "\n",
    "\n",
    "wandb.init(name=\"New test wandb\")\n",
    "\n",
    "\n",
    "raw_datasets = load_dataset(\"tiny_shakespeare\")"
   ]
  },
  {
   "cell_type": "code",
   "execution_count": 2,
   "metadata": {},
   "outputs": [],
   "source": [
    "def get_training_corpus():\n",
    "    return (\n",
    "        raw_datasets[\"train\"][i : i + 1000][\"text\"]\n",
    "        for i in range(0, len(raw_datasets[\"train\"]), 1000)\n",
    "    )\n",
    "training_corpus = get_training_corpus()"
   ]
  },
  {
   "cell_type": "code",
   "execution_count": 3,
   "metadata": {},
   "outputs": [
    {
     "name": "stdout",
     "output_type": "stream",
     "text": [
      "\n",
      "\n",
      "\n"
     ]
    }
   ],
   "source": [
    "from transformers import AutoTokenizer\n",
    "# old_tokenizer = AutoTokenizer.from_pretrained(\"gpt2\")\n",
    "old_tokenizer = AutoTokenizer.from_pretrained(\"bert-base-cased\")\n",
    "\n",
    "tokenizer = old_tokenizer.train_new_from_iterator(training_corpus, 52000)\n"
   ]
  },
  {
   "cell_type": "code",
   "execution_count": 4,
   "metadata": {},
   "outputs": [
    {
     "name": "stderr",
     "output_type": "stream",
     "text": [
      "                                                         \r"
     ]
    }
   ],
   "source": [
    "context_length = 128\n",
    "\n",
    "def tokenize(element):\n",
    "\n",
    "    outputs = tokenizer(\n",
    "        element[\"text\"],\n",
    "        truncation=True,\n",
    "        max_length=context_length,\n",
    "        return_overflowing_tokens=True,\n",
    "        return_length=True,\n",
    "    )\n",
    "    input_batch = []\n",
    "    for length, input_ids in zip(outputs[\"length\"], outputs[\"input_ids\"]):\n",
    "        if length == context_length:\n",
    "            input_batch.append(input_ids)\n",
    "    return {\"input_ids\": input_batch}\n",
    "\n",
    "\n",
    "tokenized_datasets = raw_datasets.map(\n",
    "    tokenize, batched=True, remove_columns=raw_datasets[\"train\"].column_names\n",
    ")"
   ]
  },
  {
   "cell_type": "code",
   "execution_count": 5,
   "metadata": {},
   "outputs": [],
   "source": [
    "# config = GPT2Config(vocab_size=len(tokenizer),\n",
    "#     n_ctx=context_length,\n",
    "#     bos_token_id=tokenizer.bos_token_id,\n",
    "#     eos_token_id=tokenizer.eos_token_id)\n",
    "# model = GPT2LMHeadModel(config)\n",
    "\n",
    "config = BertConfig(vocab_size=len(tokenizer))\n",
    "model = BertForMaskedLM(config)"
   ]
  },
  {
   "cell_type": "code",
   "execution_count": 6,
   "metadata": {},
   "outputs": [
    {
     "name": "stderr",
     "output_type": "stream",
     "text": [
      "/home/nguyenan1/.local/lib/python3.10/site-packages/transformers/optimization.py:407: FutureWarning: This implementation of AdamW is deprecated and will be removed in a future version. Use the PyTorch implementation torch.optim.AdamW instead, or set `no_deprecation_warning=True` to disable this warning\n",
      "  warnings.warn(\n",
      "  0%|          | 0/1570 [00:00<?, ?it/s]You're using a BertTokenizerFast tokenizer. Please note that with a fast tokenizer, using the `__call__` method is faster than using a method to encode the text followed by a call to the `pad` method to get a padded encoding.\n",
      "                                                 \n",
      "  1%|          | 11/1570 [00:02<05:09,  5.04it/s]"
     ]
    },
    {
     "name": "stdout",
     "output_type": "stream",
     "text": [
      "{'eval_loss': 7.211300373077393, 'eval_runtime': 0.254, 'eval_samples_per_second': 444.863, 'eval_steps_per_second': 39.368, 'epoch': 0.06}\n"
     ]
    },
    {
     "name": "stderr",
     "output_type": "stream",
     "text": [
      "                                                 \n",
      "  1%|▏         | 21/1570 [00:03<04:59,  5.17it/s]"
     ]
    },
    {
     "name": "stdout",
     "output_type": "stream",
     "text": [
      "{'eval_loss': 7.163985729217529, 'eval_runtime': 0.2528, 'eval_samples_per_second': 446.98, 'eval_steps_per_second': 39.556, 'epoch': 0.13}\n"
     ]
    },
    {
     "name": "stderr",
     "output_type": "stream",
     "text": [
      "                                                 \n",
      "  2%|▏         | 31/1570 [00:04<04:58,  5.16it/s]"
     ]
    },
    {
     "name": "stdout",
     "output_type": "stream",
     "text": [
      "{'eval_loss': 7.0531206130981445, 'eval_runtime': 0.2541, 'eval_samples_per_second': 444.787, 'eval_steps_per_second': 39.362, 'epoch': 0.19}\n"
     ]
    },
    {
     "name": "stderr",
     "output_type": "stream",
     "text": [
      "                                                 \n",
      "  3%|▎         | 41/1570 [00:06<04:57,  5.15it/s]"
     ]
    },
    {
     "name": "stdout",
     "output_type": "stream",
     "text": [
      "{'eval_loss': 7.062528133392334, 'eval_runtime': 0.256, 'eval_samples_per_second': 441.431, 'eval_steps_per_second': 39.065, 'epoch': 0.25}\n"
     ]
    },
    {
     "name": "stderr",
     "output_type": "stream",
     "text": [
      "                                                 \n",
      "  3%|▎         | 51/1570 [00:07<04:54,  5.15it/s]"
     ]
    },
    {
     "name": "stdout",
     "output_type": "stream",
     "text": [
      "{'eval_loss': 6.928281307220459, 'eval_runtime': 0.2559, 'eval_samples_per_second': 441.499, 'eval_steps_per_second': 39.071, 'epoch': 0.32}\n"
     ]
    },
    {
     "name": "stderr",
     "output_type": "stream",
     "text": [
      "                                                 \n",
      "  4%|▍         | 61/1570 [00:09<04:51,  5.17it/s]"
     ]
    },
    {
     "name": "stdout",
     "output_type": "stream",
     "text": [
      "{'eval_loss': 6.900620937347412, 'eval_runtime': 0.2547, 'eval_samples_per_second': 443.617, 'eval_steps_per_second': 39.258, 'epoch': 0.38}\n"
     ]
    },
    {
     "name": "stderr",
     "output_type": "stream",
     "text": [
      "                                                 \n",
      "  5%|▍         | 71/1570 [00:10<04:50,  5.15it/s]"
     ]
    },
    {
     "name": "stdout",
     "output_type": "stream",
     "text": [
      "{'eval_loss': 6.914271354675293, 'eval_runtime': 0.2553, 'eval_samples_per_second': 442.58, 'eval_steps_per_second': 39.166, 'epoch': 0.45}\n"
     ]
    },
    {
     "name": "stderr",
     "output_type": "stream",
     "text": [
      "                                                 \n",
      "  5%|▌         | 81/1570 [00:11<04:49,  5.15it/s]"
     ]
    },
    {
     "name": "stdout",
     "output_type": "stream",
     "text": [
      "{'eval_loss': 6.964986324310303, 'eval_runtime': 0.2537, 'eval_samples_per_second': 445.352, 'eval_steps_per_second': 39.412, 'epoch': 0.51}\n"
     ]
    },
    {
     "name": "stderr",
     "output_type": "stream",
     "text": [
      "                                                 \n",
      "  6%|▌         | 91/1570 [00:13<04:49,  5.10it/s]"
     ]
    },
    {
     "name": "stdout",
     "output_type": "stream",
     "text": [
      "{'eval_loss': 6.944794654846191, 'eval_runtime': 0.257, 'eval_samples_per_second': 439.748, 'eval_steps_per_second': 38.916, 'epoch': 0.57}\n"
     ]
    },
    {
     "name": "stderr",
     "output_type": "stream",
     "text": [
      "                                                  \n",
      "  6%|▋         | 101/1570 [00:14<04:47,  5.11it/s]"
     ]
    },
    {
     "name": "stdout",
     "output_type": "stream",
     "text": [
      "{'eval_loss': 6.983160972595215, 'eval_runtime': 0.258, 'eval_samples_per_second': 437.942, 'eval_steps_per_second': 38.756, 'epoch': 0.64}\n"
     ]
    },
    {
     "name": "stderr",
     "output_type": "stream",
     "text": [
      "                                                  \n",
      "  7%|▋         | 111/1570 [00:16<04:43,  5.15it/s]"
     ]
    },
    {
     "name": "stdout",
     "output_type": "stream",
     "text": [
      "{'eval_loss': 6.8687615394592285, 'eval_runtime': 0.2536, 'eval_samples_per_second': 445.56, 'eval_steps_per_second': 39.43, 'epoch': 0.7}\n"
     ]
    },
    {
     "name": "stderr",
     "output_type": "stream",
     "text": [
      "                                                  \n",
      "  8%|▊         | 121/1570 [00:17<04:41,  5.14it/s]"
     ]
    },
    {
     "name": "stdout",
     "output_type": "stream",
     "text": [
      "{'eval_loss': 6.897124767303467, 'eval_runtime': 0.2548, 'eval_samples_per_second': 443.518, 'eval_steps_per_second': 39.249, 'epoch': 0.76}\n"
     ]
    },
    {
     "name": "stderr",
     "output_type": "stream",
     "text": [
      "                                                  \n",
      "  8%|▊         | 131/1570 [00:18<04:39,  5.15it/s]"
     ]
    },
    {
     "name": "stdout",
     "output_type": "stream",
     "text": [
      "{'eval_loss': 6.980057716369629, 'eval_runtime': 0.254, 'eval_samples_per_second': 444.886, 'eval_steps_per_second': 39.37, 'epoch': 0.83}\n"
     ]
    },
    {
     "name": "stderr",
     "output_type": "stream",
     "text": [
      "                                                  \n",
      "  9%|▉         | 141/1570 [00:20<04:40,  5.09it/s]"
     ]
    },
    {
     "name": "stdout",
     "output_type": "stream",
     "text": [
      "{'eval_loss': 6.9861907958984375, 'eval_runtime': 0.258, 'eval_samples_per_second': 437.987, 'eval_steps_per_second': 38.76, 'epoch': 0.89}\n"
     ]
    },
    {
     "name": "stderr",
     "output_type": "stream",
     "text": [
      "                                                  \n",
      " 10%|▉         | 151/1570 [00:21<04:36,  5.13it/s]"
     ]
    },
    {
     "name": "stdout",
     "output_type": "stream",
     "text": [
      "{'eval_loss': 6.789981842041016, 'eval_runtime': 0.2556, 'eval_samples_per_second': 442.022, 'eval_steps_per_second': 39.117, 'epoch': 0.96}\n"
     ]
    },
    {
     "name": "stderr",
     "output_type": "stream",
     "text": [
      "                                                  \n",
      " 10%|█         | 161/1570 [00:22<04:18,  5.45it/s]"
     ]
    },
    {
     "name": "stdout",
     "output_type": "stream",
     "text": [
      "{'eval_loss': 6.8579912185668945, 'eval_runtime': 0.2544, 'eval_samples_per_second': 444.222, 'eval_steps_per_second': 39.312, 'epoch': 1.02}\n"
     ]
    },
    {
     "name": "stderr",
     "output_type": "stream",
     "text": [
      "                                                  \n",
      " 11%|█         | 171/1570 [00:24<04:33,  5.11it/s]"
     ]
    },
    {
     "name": "stdout",
     "output_type": "stream",
     "text": [
      "{'eval_loss': 6.939689636230469, 'eval_runtime': 0.2571, 'eval_samples_per_second': 439.566, 'eval_steps_per_second': 38.9, 'epoch': 1.08}\n"
     ]
    },
    {
     "name": "stderr",
     "output_type": "stream",
     "text": [
      "                                                  \n",
      " 12%|█▏        | 181/1570 [00:25<04:31,  5.11it/s]"
     ]
    },
    {
     "name": "stdout",
     "output_type": "stream",
     "text": [
      "{'eval_loss': 7.001581192016602, 'eval_runtime': 0.2555, 'eval_samples_per_second': 442.263, 'eval_steps_per_second': 39.138, 'epoch': 1.15}\n"
     ]
    },
    {
     "name": "stderr",
     "output_type": "stream",
     "text": [
      "                                                  \n",
      " 12%|█▏        | 191/1570 [00:27<04:30,  5.10it/s]"
     ]
    },
    {
     "name": "stdout",
     "output_type": "stream",
     "text": [
      "{'eval_loss': 6.818521499633789, 'eval_runtime': 0.258, 'eval_samples_per_second': 437.978, 'eval_steps_per_second': 38.759, 'epoch': 1.21}\n"
     ]
    },
    {
     "name": "stderr",
     "output_type": "stream",
     "text": [
      "                                                  \n",
      " 13%|█▎        | 201/1570 [00:28<04:28,  5.10it/s]"
     ]
    },
    {
     "name": "stdout",
     "output_type": "stream",
     "text": [
      "{'eval_loss': 6.933560371398926, 'eval_runtime': 0.2568, 'eval_samples_per_second': 440.095, 'eval_steps_per_second': 38.946, 'epoch': 1.27}\n"
     ]
    },
    {
     "name": "stderr",
     "output_type": "stream",
     "text": [
      "                                                  \n",
      " 13%|█▎        | 211/1570 [00:29<04:24,  5.14it/s]"
     ]
    },
    {
     "name": "stdout",
     "output_type": "stream",
     "text": [
      "{'eval_loss': 6.87385892868042, 'eval_runtime': 0.2557, 'eval_samples_per_second': 441.991, 'eval_steps_per_second': 39.114, 'epoch': 1.34}\n"
     ]
    },
    {
     "name": "stderr",
     "output_type": "stream",
     "text": [
      "                                                  \n",
      " 14%|█▍        | 221/1570 [00:31<04:22,  5.14it/s]"
     ]
    },
    {
     "name": "stdout",
     "output_type": "stream",
     "text": [
      "{'eval_loss': 6.888076305389404, 'eval_runtime': 0.2568, 'eval_samples_per_second': 440.105, 'eval_steps_per_second': 38.947, 'epoch': 1.4}\n"
     ]
    },
    {
     "name": "stderr",
     "output_type": "stream",
     "text": [
      "                                                  \n",
      " 15%|█▍        | 231/1570 [00:32<04:21,  5.12it/s]"
     ]
    },
    {
     "name": "stdout",
     "output_type": "stream",
     "text": [
      "{'eval_loss': 6.998686790466309, 'eval_runtime': 0.2575, 'eval_samples_per_second': 438.76, 'eval_steps_per_second': 38.828, 'epoch': 1.46}\n"
     ]
    },
    {
     "name": "stderr",
     "output_type": "stream",
     "text": [
      "                                                  \n",
      " 15%|█▌        | 241/1570 [00:34<04:20,  5.11it/s]"
     ]
    },
    {
     "name": "stdout",
     "output_type": "stream",
     "text": [
      "{'eval_loss': 7.039664268493652, 'eval_runtime': 0.257, 'eval_samples_per_second': 439.657, 'eval_steps_per_second': 38.908, 'epoch': 1.53}\n"
     ]
    },
    {
     "name": "stderr",
     "output_type": "stream",
     "text": [
      "                                                  \n",
      " 16%|█▌        | 251/1570 [00:35<04:19,  5.08it/s]"
     ]
    },
    {
     "name": "stdout",
     "output_type": "stream",
     "text": [
      "{'eval_loss': 7.013424873352051, 'eval_runtime': 0.2596, 'eval_samples_per_second': 435.29, 'eval_steps_per_second': 38.521, 'epoch': 1.59}\n"
     ]
    },
    {
     "name": "stderr",
     "output_type": "stream",
     "text": [
      "                                                  \n",
      " 17%|█▋        | 261/1570 [00:37<04:16,  5.11it/s]"
     ]
    },
    {
     "name": "stdout",
     "output_type": "stream",
     "text": [
      "{'eval_loss': 6.964882850646973, 'eval_runtime': 0.2561, 'eval_samples_per_second': 441.183, 'eval_steps_per_second': 39.043, 'epoch': 1.66}\n"
     ]
    },
    {
     "name": "stderr",
     "output_type": "stream",
     "text": [
      "                                                  \n",
      " 17%|█▋        | 271/1570 [00:38<04:14,  5.10it/s]"
     ]
    },
    {
     "name": "stdout",
     "output_type": "stream",
     "text": [
      "{'eval_loss': 6.919724941253662, 'eval_runtime': 0.2567, 'eval_samples_per_second': 440.254, 'eval_steps_per_second': 38.961, 'epoch': 1.72}\n"
     ]
    },
    {
     "name": "stderr",
     "output_type": "stream",
     "text": [
      "                                                  \n",
      " 18%|█▊        | 281/1570 [00:39<04:15,  5.05it/s]"
     ]
    },
    {
     "name": "stdout",
     "output_type": "stream",
     "text": [
      "{'eval_loss': 7.043623447418213, 'eval_runtime': 0.2632, 'eval_samples_per_second': 429.413, 'eval_steps_per_second': 38.001, 'epoch': 1.78}\n"
     ]
    },
    {
     "name": "stderr",
     "output_type": "stream",
     "text": [
      "                                                  \n",
      " 19%|█▊        | 291/1570 [00:41<04:11,  5.08it/s]"
     ]
    },
    {
     "name": "stdout",
     "output_type": "stream",
     "text": [
      "{'eval_loss': 6.964592456817627, 'eval_runtime': 0.2582, 'eval_samples_per_second': 437.606, 'eval_steps_per_second': 38.726, 'epoch': 1.85}\n"
     ]
    },
    {
     "name": "stderr",
     "output_type": "stream",
     "text": [
      "                                                  \n",
      " 19%|█▉        | 301/1570 [00:42<04:08,  5.11it/s]"
     ]
    },
    {
     "name": "stdout",
     "output_type": "stream",
     "text": [
      "{'eval_loss': 6.977543354034424, 'eval_runtime': 0.2581, 'eval_samples_per_second': 437.747, 'eval_steps_per_second': 38.739, 'epoch': 1.91}\n"
     ]
    },
    {
     "name": "stderr",
     "output_type": "stream",
     "text": [
      "                                                  \n",
      " 20%|█▉        | 311/1570 [00:44<04:09,  5.04it/s]"
     ]
    },
    {
     "name": "stdout",
     "output_type": "stream",
     "text": [
      "{'eval_loss': 6.948270797729492, 'eval_runtime': 0.261, 'eval_samples_per_second': 432.935, 'eval_steps_per_second': 38.313, 'epoch': 1.97}\n"
     ]
    },
    {
     "name": "stderr",
     "output_type": "stream",
     "text": [
      "                                                  \n",
      " 20%|██        | 321/1570 [00:45<03:58,  5.24it/s]"
     ]
    },
    {
     "name": "stdout",
     "output_type": "stream",
     "text": [
      "{'eval_loss': 6.98557186126709, 'eval_runtime': 0.2573, 'eval_samples_per_second': 439.167, 'eval_steps_per_second': 38.864, 'epoch': 2.04}\n"
     ]
    },
    {
     "name": "stderr",
     "output_type": "stream",
     "text": [
      "                                                  \n",
      " 21%|██        | 331/1570 [00:46<04:01,  5.13it/s]"
     ]
    },
    {
     "name": "stdout",
     "output_type": "stream",
     "text": [
      "{'eval_loss': 7.0318732261657715, 'eval_runtime': 0.257, 'eval_samples_per_second': 439.635, 'eval_steps_per_second': 38.906, 'epoch': 2.1}\n"
     ]
    },
    {
     "name": "stderr",
     "output_type": "stream",
     "text": [
      "                                                  \n",
      " 22%|██▏       | 341/1570 [00:48<04:03,  5.04it/s]"
     ]
    },
    {
     "name": "stdout",
     "output_type": "stream",
     "text": [
      "{'eval_loss': 6.951079845428467, 'eval_runtime': 0.262, 'eval_samples_per_second': 431.363, 'eval_steps_per_second': 38.174, 'epoch': 2.17}\n"
     ]
    },
    {
     "name": "stderr",
     "output_type": "stream",
     "text": [
      "                                                  \n",
      " 22%|██▏       | 351/1570 [00:49<03:59,  5.09it/s]"
     ]
    },
    {
     "name": "stdout",
     "output_type": "stream",
     "text": [
      "{'eval_loss': 6.876494884490967, 'eval_runtime': 0.2572, 'eval_samples_per_second': 439.285, 'eval_steps_per_second': 38.875, 'epoch': 2.23}\n"
     ]
    },
    {
     "name": "stderr",
     "output_type": "stream",
     "text": [
      "                                                  \n",
      " 23%|██▎       | 361/1570 [00:51<03:57,  5.09it/s]"
     ]
    },
    {
     "name": "stdout",
     "output_type": "stream",
     "text": [
      "{'eval_loss': 6.96564245223999, 'eval_runtime': 0.2578, 'eval_samples_per_second': 438.283, 'eval_steps_per_second': 38.786, 'epoch': 2.29}\n"
     ]
    },
    {
     "name": "stderr",
     "output_type": "stream",
     "text": [
      "                                                  \n",
      " 24%|██▎       | 371/1570 [00:52<03:54,  5.11it/s]"
     ]
    },
    {
     "name": "stdout",
     "output_type": "stream",
     "text": [
      "{'eval_loss': 6.898074626922607, 'eval_runtime': 0.2567, 'eval_samples_per_second': 440.175, 'eval_steps_per_second': 38.954, 'epoch': 2.36}\n"
     ]
    },
    {
     "name": "stderr",
     "output_type": "stream",
     "text": [
      "                                                  \n",
      " 24%|██▍       | 381/1570 [00:53<03:52,  5.10it/s]"
     ]
    },
    {
     "name": "stdout",
     "output_type": "stream",
     "text": [
      "{'eval_loss': 6.959187030792236, 'eval_runtime': 0.2573, 'eval_samples_per_second': 439.117, 'eval_steps_per_second': 38.86, 'epoch': 2.42}\n"
     ]
    },
    {
     "name": "stderr",
     "output_type": "stream",
     "text": [
      "                                                  \n",
      " 25%|██▍       | 391/1570 [00:55<03:51,  5.10it/s]"
     ]
    },
    {
     "name": "stdout",
     "output_type": "stream",
     "text": [
      "{'eval_loss': 6.948974609375, 'eval_runtime': 0.2585, 'eval_samples_per_second': 437.057, 'eval_steps_per_second': 38.678, 'epoch': 2.48}\n"
     ]
    },
    {
     "name": "stderr",
     "output_type": "stream",
     "text": [
      "                                                  \n",
      " 26%|██▌       | 401/1570 [00:56<03:48,  5.12it/s]"
     ]
    },
    {
     "name": "stdout",
     "output_type": "stream",
     "text": [
      "{'eval_loss': 6.959378242492676, 'eval_runtime': 0.2567, 'eval_samples_per_second': 440.122, 'eval_steps_per_second': 38.949, 'epoch': 2.55}\n"
     ]
    },
    {
     "name": "stderr",
     "output_type": "stream",
     "text": [
      "                                                  \n",
      " 26%|██▌       | 411/1570 [00:58<03:48,  5.08it/s]"
     ]
    },
    {
     "name": "stdout",
     "output_type": "stream",
     "text": [
      "{'eval_loss': 6.988056182861328, 'eval_runtime': 0.2595, 'eval_samples_per_second': 435.419, 'eval_steps_per_second': 38.533, 'epoch': 2.61}\n"
     ]
    },
    {
     "name": "stderr",
     "output_type": "stream",
     "text": [
      "                                                  \n",
      " 27%|██▋       | 421/1570 [00:59<03:44,  5.13it/s]"
     ]
    },
    {
     "name": "stdout",
     "output_type": "stream",
     "text": [
      "{'eval_loss': 6.924079895019531, 'eval_runtime': 0.2555, 'eval_samples_per_second': 442.242, 'eval_steps_per_second': 39.136, 'epoch': 2.68}\n"
     ]
    },
    {
     "name": "stderr",
     "output_type": "stream",
     "text": [
      "                                                  \n",
      " 27%|██▋       | 431/1570 [01:00<03:42,  5.11it/s]"
     ]
    },
    {
     "name": "stdout",
     "output_type": "stream",
     "text": [
      "{'eval_loss': 7.059720993041992, 'eval_runtime': 0.2575, 'eval_samples_per_second': 438.88, 'eval_steps_per_second': 38.839, 'epoch': 2.74}\n"
     ]
    },
    {
     "name": "stderr",
     "output_type": "stream",
     "text": [
      "                                                  \n",
      " 28%|██▊       | 441/1570 [01:02<03:41,  5.10it/s]"
     ]
    },
    {
     "name": "stdout",
     "output_type": "stream",
     "text": [
      "{'eval_loss': 7.039899826049805, 'eval_runtime': 0.2571, 'eval_samples_per_second': 439.439, 'eval_steps_per_second': 38.888, 'epoch': 2.8}\n"
     ]
    },
    {
     "name": "stderr",
     "output_type": "stream",
     "text": [
      "                                                  \n",
      " 29%|██▊       | 451/1570 [01:03<03:38,  5.11it/s]"
     ]
    },
    {
     "name": "stdout",
     "output_type": "stream",
     "text": [
      "{'eval_loss': 7.06912899017334, 'eval_runtime': 0.2574, 'eval_samples_per_second': 439.079, 'eval_steps_per_second': 38.857, 'epoch': 2.87}\n"
     ]
    },
    {
     "name": "stderr",
     "output_type": "stream",
     "text": [
      "                                                  \n",
      " 29%|██▉       | 461/1570 [01:05<03:36,  5.13it/s]"
     ]
    },
    {
     "name": "stdout",
     "output_type": "stream",
     "text": [
      "{'eval_loss': 6.924755573272705, 'eval_runtime': 0.2585, 'eval_samples_per_second': 437.134, 'eval_steps_per_second': 38.684, 'epoch': 2.93}\n"
     ]
    },
    {
     "name": "stderr",
     "output_type": "stream",
     "text": [
      "                                                  \n",
      " 30%|███       | 472/1570 [01:06<02:57,  6.20it/s]"
     ]
    },
    {
     "name": "stdout",
     "output_type": "stream",
     "text": [
      "{'eval_loss': 7.026018142700195, 'eval_runtime': 0.2576, 'eval_samples_per_second': 438.715, 'eval_steps_per_second': 38.824, 'epoch': 2.99}\n"
     ]
    },
    {
     "name": "stderr",
     "output_type": "stream",
     "text": [
      "                                                  \n",
      " 31%|███       | 481/1570 [01:07<03:32,  5.12it/s]"
     ]
    },
    {
     "name": "stdout",
     "output_type": "stream",
     "text": [
      "{'eval_loss': 6.96189022064209, 'eval_runtime': 0.2579, 'eval_samples_per_second': 438.093, 'eval_steps_per_second': 38.769, 'epoch': 3.06}\n"
     ]
    },
    {
     "name": "stderr",
     "output_type": "stream",
     "text": [
      "                                                  \n",
      " 31%|███▏      | 491/1570 [01:09<03:31,  5.10it/s]"
     ]
    },
    {
     "name": "stdout",
     "output_type": "stream",
     "text": [
      "{'eval_loss': 6.856021404266357, 'eval_runtime': 0.2581, 'eval_samples_per_second': 437.85, 'eval_steps_per_second': 38.748, 'epoch': 3.12}\n"
     ]
    },
    {
     "name": "stderr",
     "output_type": "stream",
     "text": [
      " 32%|███▏      | 500/1570 [01:10<02:05,  8.50it/s]"
     ]
    },
    {
     "name": "stdout",
     "output_type": "stream",
     "text": [
      "{'loss': 6.6382, 'learning_rate': 0.0003853896729641363, 'epoch': 3.18}\n"
     ]
    },
    {
     "name": "stderr",
     "output_type": "stream",
     "text": [
      "                                                  \n",
      " 32%|███▏      | 500/1570 [01:10<02:05,  8.50it/s]"
     ]
    },
    {
     "name": "stdout",
     "output_type": "stream",
     "text": [
      "{'eval_loss': 6.861776351928711, 'eval_runtime': 0.26, 'eval_samples_per_second': 434.634, 'eval_steps_per_second': 38.463, 'epoch': 3.18}\n"
     ]
    },
    {
     "name": "stderr",
     "output_type": "stream",
     "text": [
      "                                                  \n",
      " 33%|███▎      | 511/1570 [01:13<03:43,  4.74it/s]"
     ]
    },
    {
     "name": "stdout",
     "output_type": "stream",
     "text": [
      "{'eval_loss': 6.912344932556152, 'eval_runtime': 0.2557, 'eval_samples_per_second': 441.946, 'eval_steps_per_second': 39.11, 'epoch': 3.25}\n"
     ]
    },
    {
     "name": "stderr",
     "output_type": "stream",
     "text": [
      "                                                  \n",
      " 33%|███▎      | 521/1570 [01:15<03:25,  5.10it/s]"
     ]
    },
    {
     "name": "stdout",
     "output_type": "stream",
     "text": [
      "{'eval_loss': 6.972789287567139, 'eval_runtime': 0.2564, 'eval_samples_per_second': 440.743, 'eval_steps_per_second': 39.004, 'epoch': 3.31}\n"
     ]
    },
    {
     "name": "stderr",
     "output_type": "stream",
     "text": [
      "                                                  \n",
      " 34%|███▍      | 531/1570 [01:16<03:22,  5.12it/s]"
     ]
    },
    {
     "name": "stdout",
     "output_type": "stream",
     "text": [
      "{'eval_loss': 6.986972808837891, 'eval_runtime': 0.255, 'eval_samples_per_second': 443.174, 'eval_steps_per_second': 39.219, 'epoch': 3.38}\n"
     ]
    },
    {
     "name": "stderr",
     "output_type": "stream",
     "text": [
      "                                                  \n",
      " 34%|███▍      | 541/1570 [01:18<03:21,  5.12it/s]"
     ]
    },
    {
     "name": "stdout",
     "output_type": "stream",
     "text": [
      "{'eval_loss': 6.9637651443481445, 'eval_runtime': 0.2568, 'eval_samples_per_second': 439.952, 'eval_steps_per_second': 38.934, 'epoch': 3.44}\n"
     ]
    },
    {
     "name": "stderr",
     "output_type": "stream",
     "text": [
      "                                                  \n",
      " 35%|███▌      | 551/1570 [01:19<03:21,  5.07it/s]"
     ]
    },
    {
     "name": "stdout",
     "output_type": "stream",
     "text": [
      "{'eval_loss': 7.1034698486328125, 'eval_runtime': 0.2628, 'eval_samples_per_second': 430.041, 'eval_steps_per_second': 38.057, 'epoch': 3.5}\n"
     ]
    },
    {
     "name": "stderr",
     "output_type": "stream",
     "text": [
      "                                                  \n",
      " 36%|███▌      | 561/1570 [01:20<03:21,  5.00it/s]"
     ]
    },
    {
     "name": "stdout",
     "output_type": "stream",
     "text": [
      "{'eval_loss': 6.858469009399414, 'eval_runtime': 0.2598, 'eval_samples_per_second': 435.021, 'eval_steps_per_second': 38.497, 'epoch': 3.57}\n"
     ]
    },
    {
     "name": "stderr",
     "output_type": "stream",
     "text": [
      "                                                  \n",
      " 36%|███▋      | 571/1570 [01:22<03:14,  5.12it/s]"
     ]
    },
    {
     "name": "stdout",
     "output_type": "stream",
     "text": [
      "{'eval_loss': 7.014091968536377, 'eval_runtime': 0.255, 'eval_samples_per_second': 443.084, 'eval_steps_per_second': 39.211, 'epoch': 3.63}\n"
     ]
    },
    {
     "name": "stderr",
     "output_type": "stream",
     "text": [
      "                                                  \n",
      " 37%|███▋      | 581/1570 [01:23<03:12,  5.13it/s]"
     ]
    },
    {
     "name": "stdout",
     "output_type": "stream",
     "text": [
      "{'eval_loss': 6.962698459625244, 'eval_runtime': 0.2561, 'eval_samples_per_second': 441.308, 'eval_steps_per_second': 39.054, 'epoch': 3.69}\n"
     ]
    },
    {
     "name": "stderr",
     "output_type": "stream",
     "text": [
      "                                                  \n",
      " 38%|███▊      | 591/1570 [01:25<03:10,  5.13it/s]"
     ]
    },
    {
     "name": "stdout",
     "output_type": "stream",
     "text": [
      "{'eval_loss': 7.057283878326416, 'eval_runtime': 0.2556, 'eval_samples_per_second': 442.083, 'eval_steps_per_second': 39.122, 'epoch': 3.76}\n"
     ]
    },
    {
     "name": "stderr",
     "output_type": "stream",
     "text": [
      "                                                  \n",
      " 38%|███▊      | 601/1570 [01:26<03:09,  5.12it/s]"
     ]
    },
    {
     "name": "stdout",
     "output_type": "stream",
     "text": [
      "{'eval_loss': 6.94223690032959, 'eval_runtime': 0.2558, 'eval_samples_per_second': 441.791, 'eval_steps_per_second': 39.097, 'epoch': 3.82}\n"
     ]
    },
    {
     "name": "stderr",
     "output_type": "stream",
     "text": [
      "                                                  \n",
      " 39%|███▉      | 611/1570 [01:27<03:06,  5.14it/s]"
     ]
    },
    {
     "name": "stdout",
     "output_type": "stream",
     "text": [
      "{'eval_loss': 6.923771381378174, 'eval_runtime': 0.2547, 'eval_samples_per_second': 443.701, 'eval_steps_per_second': 39.266, 'epoch': 3.89}\n"
     ]
    },
    {
     "name": "stderr",
     "output_type": "stream",
     "text": [
      "                                                  \n",
      " 40%|███▉      | 621/1570 [01:29<03:04,  5.14it/s]"
     ]
    },
    {
     "name": "stdout",
     "output_type": "stream",
     "text": [
      "{'eval_loss': 6.91622257232666, 'eval_runtime': 0.2548, 'eval_samples_per_second': 443.437, 'eval_steps_per_second': 39.242, 'epoch': 3.95}\n"
     ]
    },
    {
     "name": "stderr",
     "output_type": "stream",
     "text": [
      "                                                  \n",
      " 40%|████      | 631/1570 [01:30<02:47,  5.61it/s]"
     ]
    },
    {
     "name": "stdout",
     "output_type": "stream",
     "text": [
      "{'eval_loss': 6.872110366821289, 'eval_runtime': 0.256, 'eval_samples_per_second': 441.455, 'eval_steps_per_second': 39.067, 'epoch': 4.01}\n"
     ]
    },
    {
     "name": "stderr",
     "output_type": "stream",
     "text": [
      "                                                  \n",
      " 41%|████      | 641/1570 [01:32<02:59,  5.17it/s]"
     ]
    },
    {
     "name": "stdout",
     "output_type": "stream",
     "text": [
      "{'eval_loss': 7.077506065368652, 'eval_runtime': 0.2548, 'eval_samples_per_second': 443.521, 'eval_steps_per_second': 39.25, 'epoch': 4.08}\n"
     ]
    },
    {
     "name": "stderr",
     "output_type": "stream",
     "text": [
      "                                                  \n",
      " 41%|████▏     | 651/1570 [01:33<02:58,  5.14it/s]"
     ]
    },
    {
     "name": "stdout",
     "output_type": "stream",
     "text": [
      "{'eval_loss': 7.0646467208862305, 'eval_runtime': 0.2551, 'eval_samples_per_second': 442.99, 'eval_steps_per_second': 39.203, 'epoch': 4.14}\n"
     ]
    },
    {
     "name": "stderr",
     "output_type": "stream",
     "text": [
      "                                                  \n",
      " 42%|████▏     | 661/1570 [01:34<02:57,  5.13it/s]"
     ]
    },
    {
     "name": "stdout",
     "output_type": "stream",
     "text": [
      "{'eval_loss': 6.937257289886475, 'eval_runtime': 0.2555, 'eval_samples_per_second': 442.308, 'eval_steps_per_second': 39.142, 'epoch': 4.2}\n"
     ]
    },
    {
     "name": "stderr",
     "output_type": "stream",
     "text": [
      "                                                  \n",
      " 43%|████▎     | 671/1570 [01:36<02:55,  5.11it/s]"
     ]
    },
    {
     "name": "stdout",
     "output_type": "stream",
     "text": [
      "{'eval_loss': 6.898763656616211, 'eval_runtime': 0.2562, 'eval_samples_per_second': 441.082, 'eval_steps_per_second': 39.034, 'epoch': 4.27}\n"
     ]
    },
    {
     "name": "stderr",
     "output_type": "stream",
     "text": [
      "                                                  \n",
      " 43%|████▎     | 681/1570 [01:37<02:57,  5.02it/s]"
     ]
    },
    {
     "name": "stdout",
     "output_type": "stream",
     "text": [
      "{'eval_loss': 6.885190486907959, 'eval_runtime': 0.2643, 'eval_samples_per_second': 427.466, 'eval_steps_per_second': 37.829, 'epoch': 4.33}\n"
     ]
    },
    {
     "name": "stderr",
     "output_type": "stream",
     "text": [
      "                                                  \n",
      " 44%|████▍     | 691/1570 [01:39<02:52,  5.10it/s]"
     ]
    },
    {
     "name": "stdout",
     "output_type": "stream",
     "text": [
      "{'eval_loss': 7.020521640777588, 'eval_runtime': 0.2574, 'eval_samples_per_second': 439.088, 'eval_steps_per_second': 38.857, 'epoch': 4.39}\n"
     ]
    },
    {
     "name": "stderr",
     "output_type": "stream",
     "text": [
      "                                                  \n",
      " 45%|████▍     | 701/1570 [01:40<02:51,  5.07it/s]"
     ]
    },
    {
     "name": "stdout",
     "output_type": "stream",
     "text": [
      "{'eval_loss': 7.005513668060303, 'eval_runtime': 0.2596, 'eval_samples_per_second': 435.282, 'eval_steps_per_second': 38.52, 'epoch': 4.46}\n"
     ]
    },
    {
     "name": "stderr",
     "output_type": "stream",
     "text": [
      "                                                  \n",
      " 45%|████▌     | 711/1570 [01:41<02:47,  5.11it/s]"
     ]
    },
    {
     "name": "stdout",
     "output_type": "stream",
     "text": [
      "{'eval_loss': 6.96378231048584, 'eval_runtime': 0.2564, 'eval_samples_per_second': 440.786, 'eval_steps_per_second': 39.008, 'epoch': 4.52}\n"
     ]
    },
    {
     "name": "stderr",
     "output_type": "stream",
     "text": [
      "                                                  \n",
      " 46%|████▌     | 721/1570 [01:43<02:46,  5.08it/s]"
     ]
    },
    {
     "name": "stdout",
     "output_type": "stream",
     "text": [
      "{'eval_loss': 7.012744903564453, 'eval_runtime': 0.2585, 'eval_samples_per_second': 437.073, 'eval_steps_per_second': 38.679, 'epoch': 4.59}\n"
     ]
    },
    {
     "name": "stderr",
     "output_type": "stream",
     "text": [
      "                                                  \n",
      " 47%|████▋     | 731/1570 [01:44<02:45,  5.05it/s]"
     ]
    },
    {
     "name": "stdout",
     "output_type": "stream",
     "text": [
      "{'eval_loss': 6.927871227264404, 'eval_runtime': 0.2596, 'eval_samples_per_second': 435.219, 'eval_steps_per_second': 38.515, 'epoch': 4.65}\n"
     ]
    },
    {
     "name": "stderr",
     "output_type": "stream",
     "text": [
      "                                                  \n",
      " 47%|████▋     | 741/1570 [01:46<02:42,  5.12it/s]"
     ]
    },
    {
     "name": "stdout",
     "output_type": "stream",
     "text": [
      "{'eval_loss': 7.00380802154541, 'eval_runtime': 0.2572, 'eval_samples_per_second': 439.325, 'eval_steps_per_second': 38.878, 'epoch': 4.71}\n"
     ]
    },
    {
     "name": "stderr",
     "output_type": "stream",
     "text": [
      "                                                  \n",
      " 48%|████▊     | 751/1570 [01:47<02:41,  5.07it/s]"
     ]
    },
    {
     "name": "stdout",
     "output_type": "stream",
     "text": [
      "{'eval_loss': 7.0528693199157715, 'eval_runtime': 0.2594, 'eval_samples_per_second': 435.574, 'eval_steps_per_second': 38.546, 'epoch': 4.78}\n"
     ]
    },
    {
     "name": "stderr",
     "output_type": "stream",
     "text": [
      "                                                  \n",
      " 48%|████▊     | 761/1570 [01:49<02:38,  5.09it/s]"
     ]
    },
    {
     "name": "stdout",
     "output_type": "stream",
     "text": [
      "{'eval_loss': 6.9432454109191895, 'eval_runtime': 0.2568, 'eval_samples_per_second': 440.105, 'eval_steps_per_second': 38.947, 'epoch': 4.84}\n"
     ]
    },
    {
     "name": "stderr",
     "output_type": "stream",
     "text": [
      "                                                  \n",
      " 49%|████▉     | 771/1570 [01:50<02:37,  5.06it/s]"
     ]
    },
    {
     "name": "stdout",
     "output_type": "stream",
     "text": [
      "{'eval_loss': 6.975258827209473, 'eval_runtime': 0.2582, 'eval_samples_per_second': 437.685, 'eval_steps_per_second': 38.733, 'epoch': 4.9}\n"
     ]
    },
    {
     "name": "stderr",
     "output_type": "stream",
     "text": [
      "                                                  \n",
      " 50%|████▉     | 781/1570 [01:51<02:34,  5.12it/s]"
     ]
    },
    {
     "name": "stdout",
     "output_type": "stream",
     "text": [
      "{'eval_loss': 6.917572498321533, 'eval_runtime': 0.2557, 'eval_samples_per_second': 441.877, 'eval_steps_per_second': 39.104, 'epoch': 4.97}\n"
     ]
    },
    {
     "name": "stderr",
     "output_type": "stream",
     "text": [
      "                                                  \n",
      " 50%|█████     | 791/1570 [01:53<02:27,  5.28it/s]"
     ]
    },
    {
     "name": "stdout",
     "output_type": "stream",
     "text": [
      "{'eval_loss': 7.018123626708984, 'eval_runtime': 0.2575, 'eval_samples_per_second': 438.813, 'eval_steps_per_second': 38.833, 'epoch': 5.03}\n"
     ]
    },
    {
     "name": "stderr",
     "output_type": "stream",
     "text": [
      "                                                  \n",
      " 51%|█████     | 801/1570 [01:54<02:30,  5.11it/s]"
     ]
    },
    {
     "name": "stdout",
     "output_type": "stream",
     "text": [
      "{'eval_loss': 6.922194004058838, 'eval_runtime': 0.2588, 'eval_samples_per_second': 436.632, 'eval_steps_per_second': 38.64, 'epoch': 5.1}\n"
     ]
    },
    {
     "name": "stderr",
     "output_type": "stream",
     "text": [
      "                                                  \n",
      " 52%|█████▏    | 811/1570 [01:55<02:28,  5.11it/s]"
     ]
    },
    {
     "name": "stdout",
     "output_type": "stream",
     "text": [
      "{'eval_loss': 6.858092784881592, 'eval_runtime': 0.2578, 'eval_samples_per_second': 438.28, 'eval_steps_per_second': 38.786, 'epoch': 5.16}\n"
     ]
    },
    {
     "name": "stderr",
     "output_type": "stream",
     "text": [
      "                                                  \n",
      " 52%|█████▏    | 821/1570 [01:57<02:27,  5.08it/s]"
     ]
    },
    {
     "name": "stdout",
     "output_type": "stream",
     "text": [
      "{'eval_loss': 7.018712997436523, 'eval_runtime': 0.2598, 'eval_samples_per_second': 434.983, 'eval_steps_per_second': 38.494, 'epoch': 5.22}\n"
     ]
    },
    {
     "name": "stderr",
     "output_type": "stream",
     "text": [
      "                                                  \n",
      " 53%|█████▎    | 831/1570 [01:58<02:24,  5.10it/s]"
     ]
    },
    {
     "name": "stdout",
     "output_type": "stream",
     "text": [
      "{'eval_loss': 6.9178385734558105, 'eval_runtime': 0.2566, 'eval_samples_per_second': 440.425, 'eval_steps_per_second': 38.976, 'epoch': 5.29}\n"
     ]
    },
    {
     "name": "stderr",
     "output_type": "stream",
     "text": [
      "                                                  \n",
      " 54%|█████▎    | 841/1570 [02:00<02:23,  5.10it/s]"
     ]
    },
    {
     "name": "stdout",
     "output_type": "stream",
     "text": [
      "{'eval_loss': 6.926813125610352, 'eval_runtime': 0.2575, 'eval_samples_per_second': 438.843, 'eval_steps_per_second': 38.836, 'epoch': 5.35}\n"
     ]
    },
    {
     "name": "stderr",
     "output_type": "stream",
     "text": [
      "                                                  \n",
      " 54%|█████▍    | 851/1570 [02:01<02:21,  5.08it/s]"
     ]
    },
    {
     "name": "stdout",
     "output_type": "stream",
     "text": [
      "{'eval_loss': 6.961666107177734, 'eval_runtime': 0.2591, 'eval_samples_per_second': 436.113, 'eval_steps_per_second': 38.594, 'epoch': 5.41}\n"
     ]
    },
    {
     "name": "stderr",
     "output_type": "stream",
     "text": [
      "                                                  \n",
      " 55%|█████▍    | 861/1570 [02:03<02:18,  5.13it/s]"
     ]
    },
    {
     "name": "stdout",
     "output_type": "stream",
     "text": [
      "{'eval_loss': 6.965147495269775, 'eval_runtime': 0.255, 'eval_samples_per_second': 443.067, 'eval_steps_per_second': 39.21, 'epoch': 5.48}\n"
     ]
    },
    {
     "name": "stderr",
     "output_type": "stream",
     "text": [
      "                                                  \n",
      " 55%|█████▌    | 871/1570 [02:04<02:16,  5.12it/s]"
     ]
    },
    {
     "name": "stdout",
     "output_type": "stream",
     "text": [
      "{'eval_loss': 7.008022785186768, 'eval_runtime': 0.2575, 'eval_samples_per_second': 438.814, 'eval_steps_per_second': 38.833, 'epoch': 5.54}\n"
     ]
    },
    {
     "name": "stderr",
     "output_type": "stream",
     "text": [
      "                                                  \n",
      " 56%|█████▌    | 881/1570 [02:05<02:15,  5.10it/s]"
     ]
    },
    {
     "name": "stdout",
     "output_type": "stream",
     "text": [
      "{'eval_loss': 6.91176700592041, 'eval_runtime': 0.257, 'eval_samples_per_second': 439.72, 'eval_steps_per_second': 38.913, 'epoch': 5.61}\n"
     ]
    },
    {
     "name": "stderr",
     "output_type": "stream",
     "text": [
      "                                                  \n",
      " 57%|█████▋    | 891/1570 [02:07<02:12,  5.14it/s]"
     ]
    },
    {
     "name": "stdout",
     "output_type": "stream",
     "text": [
      "{'eval_loss': 7.042196750640869, 'eval_runtime': 0.2557, 'eval_samples_per_second': 441.868, 'eval_steps_per_second': 39.103, 'epoch': 5.67}\n"
     ]
    },
    {
     "name": "stderr",
     "output_type": "stream",
     "text": [
      "                                                  \n",
      " 57%|█████▋    | 901/1570 [02:08<02:11,  5.08it/s]"
     ]
    },
    {
     "name": "stdout",
     "output_type": "stream",
     "text": [
      "{'eval_loss': 6.952267646789551, 'eval_runtime': 0.2576, 'eval_samples_per_second': 438.592, 'eval_steps_per_second': 38.813, 'epoch': 5.73}\n"
     ]
    },
    {
     "name": "stderr",
     "output_type": "stream",
     "text": [
      "                                                  \n",
      " 58%|█████▊    | 911/1570 [02:10<02:08,  5.14it/s]"
     ]
    },
    {
     "name": "stdout",
     "output_type": "stream",
     "text": [
      "{'eval_loss': 6.905061721801758, 'eval_runtime': 0.2553, 'eval_samples_per_second': 442.533, 'eval_steps_per_second': 39.162, 'epoch': 5.8}\n"
     ]
    },
    {
     "name": "stderr",
     "output_type": "stream",
     "text": [
      "                                                  \n",
      " 59%|█████▊    | 921/1570 [02:11<02:06,  5.14it/s]"
     ]
    },
    {
     "name": "stdout",
     "output_type": "stream",
     "text": [
      "{'eval_loss': 6.820461273193359, 'eval_runtime': 0.255, 'eval_samples_per_second': 443.124, 'eval_steps_per_second': 39.215, 'epoch': 5.86}\n"
     ]
    },
    {
     "name": "stderr",
     "output_type": "stream",
     "text": [
      "                                                  \n",
      " 59%|█████▉    | 931/1570 [02:12<02:05,  5.11it/s]"
     ]
    },
    {
     "name": "stdout",
     "output_type": "stream",
     "text": [
      "{'eval_loss': 6.984916687011719, 'eval_runtime': 0.2568, 'eval_samples_per_second': 440.095, 'eval_steps_per_second': 38.946, 'epoch': 5.92}\n"
     ]
    },
    {
     "name": "stderr",
     "output_type": "stream",
     "text": [
      "                                                  \n",
      " 60%|█████▉    | 941/1570 [02:14<02:02,  5.14it/s]"
     ]
    },
    {
     "name": "stdout",
     "output_type": "stream",
     "text": [
      "{'eval_loss': 6.96735143661499, 'eval_runtime': 0.2556, 'eval_samples_per_second': 442.058, 'eval_steps_per_second': 39.12, 'epoch': 5.99}\n"
     ]
    },
    {
     "name": "stderr",
     "output_type": "stream",
     "text": [
      "                                                  \n",
      " 61%|██████    | 951/1570 [02:15<01:59,  5.16it/s]"
     ]
    },
    {
     "name": "stdout",
     "output_type": "stream",
     "text": [
      "{'eval_loss': 6.913933753967285, 'eval_runtime': 0.2578, 'eval_samples_per_second': 438.263, 'eval_steps_per_second': 38.784, 'epoch': 6.05}\n"
     ]
    },
    {
     "name": "stderr",
     "output_type": "stream",
     "text": [
      "                                                  \n",
      " 61%|██████    | 961/1570 [02:16<01:59,  5.11it/s]"
     ]
    },
    {
     "name": "stdout",
     "output_type": "stream",
     "text": [
      "{'eval_loss': 6.84803581237793, 'eval_runtime': 0.2573, 'eval_samples_per_second': 439.234, 'eval_steps_per_second': 38.87, 'epoch': 6.11}\n"
     ]
    },
    {
     "name": "stderr",
     "output_type": "stream",
     "text": [
      "                                                  \n",
      " 62%|██████▏   | 971/1570 [02:18<01:57,  5.10it/s]"
     ]
    },
    {
     "name": "stdout",
     "output_type": "stream",
     "text": [
      "{'eval_loss': 6.960263729095459, 'eval_runtime': 0.2575, 'eval_samples_per_second': 438.849, 'eval_steps_per_second': 38.836, 'epoch': 6.18}\n"
     ]
    },
    {
     "name": "stderr",
     "output_type": "stream",
     "text": [
      "                                                  \n",
      " 62%|██████▏   | 981/1570 [02:19<01:54,  5.14it/s]"
     ]
    },
    {
     "name": "stdout",
     "output_type": "stream",
     "text": [
      "{'eval_loss': 6.971708297729492, 'eval_runtime': 0.2548, 'eval_samples_per_second': 443.507, 'eval_steps_per_second': 39.248, 'epoch': 6.24}\n"
     ]
    },
    {
     "name": "stderr",
     "output_type": "stream",
     "text": [
      "                                                  \n",
      " 63%|██████▎   | 991/1570 [02:21<01:52,  5.13it/s]"
     ]
    },
    {
     "name": "stdout",
     "output_type": "stream",
     "text": [
      "{'eval_loss': 6.866039276123047, 'eval_runtime': 0.2566, 'eval_samples_per_second': 440.328, 'eval_steps_per_second': 38.967, 'epoch': 6.31}\n"
     ]
    },
    {
     "name": "stderr",
     "output_type": "stream",
     "text": [
      " 64%|██████▎   | 1000/1570 [02:22<01:07,  8.47it/s]"
     ]
    },
    {
     "name": "stdout",
     "output_type": "stream",
     "text": [
      "{'loss': 6.4957, 'learning_rate': 0.00014664290836268612, 'epoch': 6.37}\n"
     ]
    },
    {
     "name": "stderr",
     "output_type": "stream",
     "text": [
      "                                                   \n",
      " 64%|██████▎   | 1000/1570 [02:22<01:07,  8.47it/s]"
     ]
    },
    {
     "name": "stdout",
     "output_type": "stream",
     "text": [
      "{'eval_loss': 6.985580921173096, 'eval_runtime': 0.2563, 'eval_samples_per_second': 440.815, 'eval_steps_per_second': 39.01, 'epoch': 6.37}\n"
     ]
    },
    {
     "name": "stderr",
     "output_type": "stream",
     "text": [
      "                                                   \n",
      " 64%|██████▍   | 1011/1570 [02:25<01:59,  4.70it/s]"
     ]
    },
    {
     "name": "stdout",
     "output_type": "stream",
     "text": [
      "{'eval_loss': 6.940706729888916, 'eval_runtime': 0.26, 'eval_samples_per_second': 434.618, 'eval_steps_per_second': 38.462, 'epoch': 6.43}\n"
     ]
    },
    {
     "name": "stderr",
     "output_type": "stream",
     "text": [
      "                                                   \n",
      " 65%|██████▌   | 1021/1570 [02:27<01:47,  5.10it/s]"
     ]
    },
    {
     "name": "stdout",
     "output_type": "stream",
     "text": [
      "{'eval_loss': 6.900251388549805, 'eval_runtime': 0.2574, 'eval_samples_per_second': 439.037, 'eval_steps_per_second': 38.853, 'epoch': 6.5}\n"
     ]
    },
    {
     "name": "stderr",
     "output_type": "stream",
     "text": [
      "                                                   \n",
      " 66%|██████▌   | 1031/1570 [02:28<01:45,  5.13it/s]"
     ]
    },
    {
     "name": "stdout",
     "output_type": "stream",
     "text": [
      "{'eval_loss': 6.88352632522583, 'eval_runtime': 0.256, 'eval_samples_per_second': 441.353, 'eval_steps_per_second': 39.058, 'epoch': 6.56}\n"
     ]
    },
    {
     "name": "stderr",
     "output_type": "stream",
     "text": [
      "                                                   \n",
      " 66%|██████▋   | 1041/1570 [02:30<01:43,  5.11it/s]"
     ]
    },
    {
     "name": "stdout",
     "output_type": "stream",
     "text": [
      "{'eval_loss': 6.898218631744385, 'eval_runtime': 0.2569, 'eval_samples_per_second': 439.934, 'eval_steps_per_second': 38.932, 'epoch': 6.62}\n"
     ]
    },
    {
     "name": "stderr",
     "output_type": "stream",
     "text": [
      "                                                   \n",
      " 67%|██████▋   | 1051/1570 [02:31<01:40,  5.14it/s]"
     ]
    },
    {
     "name": "stdout",
     "output_type": "stream",
     "text": [
      "{'eval_loss': 6.921801567077637, 'eval_runtime': 0.2559, 'eval_samples_per_second': 441.504, 'eval_steps_per_second': 39.071, 'epoch': 6.69}\n"
     ]
    },
    {
     "name": "stderr",
     "output_type": "stream",
     "text": [
      "                                                   \n",
      " 68%|██████▊   | 1061/1570 [02:32<01:39,  5.13it/s]"
     ]
    },
    {
     "name": "stdout",
     "output_type": "stream",
     "text": [
      "{'eval_loss': 6.945010662078857, 'eval_runtime': 0.2563, 'eval_samples_per_second': 440.929, 'eval_steps_per_second': 39.02, 'epoch': 6.75}\n"
     ]
    },
    {
     "name": "stderr",
     "output_type": "stream",
     "text": [
      "                                                   \n",
      " 68%|██████▊   | 1071/1570 [02:34<01:37,  5.12it/s]"
     ]
    },
    {
     "name": "stdout",
     "output_type": "stream",
     "text": [
      "{'eval_loss': 6.929445743560791, 'eval_runtime': 0.2574, 'eval_samples_per_second': 438.927, 'eval_steps_per_second': 38.843, 'epoch': 6.82}\n"
     ]
    },
    {
     "name": "stderr",
     "output_type": "stream",
     "text": [
      "                                                   \n",
      " 69%|██████▉   | 1081/1570 [02:35<01:35,  5.10it/s]"
     ]
    },
    {
     "name": "stdout",
     "output_type": "stream",
     "text": [
      "{'eval_loss': 7.032793045043945, 'eval_runtime': 0.2574, 'eval_samples_per_second': 439.087, 'eval_steps_per_second': 38.857, 'epoch': 6.88}\n"
     ]
    },
    {
     "name": "stderr",
     "output_type": "stream",
     "text": [
      "                                                   \n",
      " 69%|██████▉   | 1091/1570 [02:37<01:34,  5.09it/s]"
     ]
    },
    {
     "name": "stdout",
     "output_type": "stream",
     "text": [
      "{'eval_loss': 6.911231517791748, 'eval_runtime': 0.2584, 'eval_samples_per_second': 437.359, 'eval_steps_per_second': 38.704, 'epoch': 6.94}\n"
     ]
    },
    {
     "name": "stderr",
     "output_type": "stream",
     "text": [
      "                                                   \n",
      " 70%|███████   | 1101/1570 [02:38<01:22,  5.72it/s]"
     ]
    },
    {
     "name": "stdout",
     "output_type": "stream",
     "text": [
      "{'eval_loss': 6.987977027893066, 'eval_runtime': 0.2576, 'eval_samples_per_second': 438.682, 'eval_steps_per_second': 38.821, 'epoch': 7.01}\n"
     ]
    },
    {
     "name": "stderr",
     "output_type": "stream",
     "text": [
      "                                                   \n",
      " 71%|███████   | 1111/1570 [02:39<01:29,  5.12it/s]"
     ]
    },
    {
     "name": "stdout",
     "output_type": "stream",
     "text": [
      "{'eval_loss': 7.005524635314941, 'eval_runtime': 0.2559, 'eval_samples_per_second': 441.606, 'eval_steps_per_second': 39.08, 'epoch': 7.07}\n"
     ]
    },
    {
     "name": "stderr",
     "output_type": "stream",
     "text": [
      "                                                   \n",
      " 71%|███████▏  | 1121/1570 [02:41<01:27,  5.11it/s]"
     ]
    },
    {
     "name": "stdout",
     "output_type": "stream",
     "text": [
      "{'eval_loss': 6.990029811859131, 'eval_runtime': 0.259, 'eval_samples_per_second': 436.362, 'eval_steps_per_second': 38.616, 'epoch': 7.13}\n"
     ]
    },
    {
     "name": "stderr",
     "output_type": "stream",
     "text": [
      "                                                   \n",
      " 72%|███████▏  | 1131/1570 [02:42<01:25,  5.14it/s]"
     ]
    },
    {
     "name": "stdout",
     "output_type": "stream",
     "text": [
      "{'eval_loss': 6.861899375915527, 'eval_runtime': 0.2553, 'eval_samples_per_second': 442.642, 'eval_steps_per_second': 39.172, 'epoch': 7.2}\n"
     ]
    },
    {
     "name": "stderr",
     "output_type": "stream",
     "text": [
      "                                                   \n",
      " 73%|███████▎  | 1141/1570 [02:44<01:23,  5.13it/s]"
     ]
    },
    {
     "name": "stdout",
     "output_type": "stream",
     "text": [
      "{'eval_loss': 6.866810321807861, 'eval_runtime': 0.2562, 'eval_samples_per_second': 441.041, 'eval_steps_per_second': 39.03, 'epoch': 7.26}\n"
     ]
    },
    {
     "name": "stderr",
     "output_type": "stream",
     "text": [
      "                                                   \n",
      " 73%|███████▎  | 1151/1570 [02:45<01:21,  5.12it/s]"
     ]
    },
    {
     "name": "stdout",
     "output_type": "stream",
     "text": [
      "{'eval_loss': 6.8821234703063965, 'eval_runtime': 0.2557, 'eval_samples_per_second': 442.009, 'eval_steps_per_second': 39.116, 'epoch': 7.32}\n"
     ]
    },
    {
     "name": "stderr",
     "output_type": "stream",
     "text": [
      "                                                   \n",
      " 74%|███████▍  | 1161/1570 [02:46<01:19,  5.11it/s]"
     ]
    },
    {
     "name": "stdout",
     "output_type": "stream",
     "text": [
      "{'eval_loss': 6.928022384643555, 'eval_runtime': 0.2572, 'eval_samples_per_second': 439.363, 'eval_steps_per_second': 38.882, 'epoch': 7.39}\n"
     ]
    },
    {
     "name": "stderr",
     "output_type": "stream",
     "text": [
      "                                                   \n",
      " 75%|███████▍  | 1171/1570 [02:48<01:17,  5.12it/s]"
     ]
    },
    {
     "name": "stdout",
     "output_type": "stream",
     "text": [
      "{'eval_loss': 6.933658123016357, 'eval_runtime': 0.2565, 'eval_samples_per_second': 440.514, 'eval_steps_per_second': 38.984, 'epoch': 7.45}\n"
     ]
    },
    {
     "name": "stderr",
     "output_type": "stream",
     "text": [
      "                                                   \n",
      " 75%|███████▌  | 1181/1570 [02:49<01:15,  5.15it/s]"
     ]
    },
    {
     "name": "stdout",
     "output_type": "stream",
     "text": [
      "{'eval_loss': 6.962433338165283, 'eval_runtime': 0.255, 'eval_samples_per_second': 443.114, 'eval_steps_per_second': 39.214, 'epoch': 7.52}\n"
     ]
    },
    {
     "name": "stderr",
     "output_type": "stream",
     "text": [
      "                                                   \n",
      " 76%|███████▌  | 1191/1570 [02:51<01:13,  5.13it/s]"
     ]
    },
    {
     "name": "stdout",
     "output_type": "stream",
     "text": [
      "{'eval_loss': 6.978418827056885, 'eval_runtime': 0.2552, 'eval_samples_per_second': 442.81, 'eval_steps_per_second': 39.187, 'epoch': 7.58}\n"
     ]
    },
    {
     "name": "stderr",
     "output_type": "stream",
     "text": [
      "                                                   \n",
      " 76%|███████▋  | 1201/1570 [02:52<01:11,  5.13it/s]"
     ]
    },
    {
     "name": "stdout",
     "output_type": "stream",
     "text": [
      "{'eval_loss': 6.945065975189209, 'eval_runtime': 0.2554, 'eval_samples_per_second': 442.441, 'eval_steps_per_second': 39.154, 'epoch': 7.64}\n"
     ]
    },
    {
     "name": "stderr",
     "output_type": "stream",
     "text": [
      "                                                   \n",
      " 77%|███████▋  | 1211/1570 [02:53<01:10,  5.13it/s]"
     ]
    },
    {
     "name": "stdout",
     "output_type": "stream",
     "text": [
      "{'eval_loss': 6.993273735046387, 'eval_runtime': 0.2559, 'eval_samples_per_second': 441.652, 'eval_steps_per_second': 39.084, 'epoch': 7.71}\n"
     ]
    },
    {
     "name": "stderr",
     "output_type": "stream",
     "text": [
      "                                                   \n",
      " 78%|███████▊  | 1221/1570 [02:55<01:07,  5.15it/s]"
     ]
    },
    {
     "name": "stdout",
     "output_type": "stream",
     "text": [
      "{'eval_loss': 6.900267124176025, 'eval_runtime': 0.2549, 'eval_samples_per_second': 443.294, 'eval_steps_per_second': 39.23, 'epoch': 7.77}\n"
     ]
    },
    {
     "name": "stderr",
     "output_type": "stream",
     "text": [
      "                                                   \n",
      " 78%|███████▊  | 1231/1570 [02:56<01:05,  5.15it/s]"
     ]
    },
    {
     "name": "stdout",
     "output_type": "stream",
     "text": [
      "{'eval_loss': 7.025112628936768, 'eval_runtime': 0.2548, 'eval_samples_per_second': 443.409, 'eval_steps_per_second': 39.24, 'epoch': 7.83}\n"
     ]
    },
    {
     "name": "stderr",
     "output_type": "stream",
     "text": [
      "                                                   \n",
      " 79%|███████▉  | 1241/1570 [02:58<01:03,  5.15it/s]"
     ]
    },
    {
     "name": "stdout",
     "output_type": "stream",
     "text": [
      "{'eval_loss': 6.941102504730225, 'eval_runtime': 0.2558, 'eval_samples_per_second': 441.824, 'eval_steps_per_second': 39.099, 'epoch': 7.9}\n"
     ]
    },
    {
     "name": "stderr",
     "output_type": "stream",
     "text": [
      "                                                   \n",
      " 80%|███████▉  | 1251/1570 [02:59<01:02,  5.14it/s]"
     ]
    },
    {
     "name": "stdout",
     "output_type": "stream",
     "text": [
      "{'eval_loss': 6.789783954620361, 'eval_runtime': 0.2551, 'eval_samples_per_second': 442.943, 'eval_steps_per_second': 39.198, 'epoch': 7.96}\n"
     ]
    },
    {
     "name": "stderr",
     "output_type": "stream",
     "text": [
      "                                                   \n",
      " 80%|████████  | 1261/1570 [03:00<00:57,  5.37it/s]"
     ]
    },
    {
     "name": "stdout",
     "output_type": "stream",
     "text": [
      "{'eval_loss': 6.807791233062744, 'eval_runtime': 0.2551, 'eval_samples_per_second': 442.913, 'eval_steps_per_second': 39.196, 'epoch': 8.03}\n"
     ]
    },
    {
     "name": "stderr",
     "output_type": "stream",
     "text": [
      "                                                   \n",
      " 81%|████████  | 1271/1570 [03:02<00:58,  5.14it/s]"
     ]
    },
    {
     "name": "stdout",
     "output_type": "stream",
     "text": [
      "{'eval_loss': 6.9513373374938965, 'eval_runtime': 0.2576, 'eval_samples_per_second': 438.721, 'eval_steps_per_second': 38.825, 'epoch': 8.09}\n"
     ]
    },
    {
     "name": "stderr",
     "output_type": "stream",
     "text": [
      "                                                   \n",
      " 82%|████████▏ | 1281/1570 [03:03<00:56,  5.15it/s]"
     ]
    },
    {
     "name": "stdout",
     "output_type": "stream",
     "text": [
      "{'eval_loss': 6.885264873504639, 'eval_runtime': 0.2545, 'eval_samples_per_second': 443.973, 'eval_steps_per_second': 39.29, 'epoch': 8.15}\n"
     ]
    },
    {
     "name": "stderr",
     "output_type": "stream",
     "text": [
      "                                                   \n",
      " 82%|████████▏ | 1291/1570 [03:05<00:54,  5.15it/s]"
     ]
    },
    {
     "name": "stdout",
     "output_type": "stream",
     "text": [
      "{'eval_loss': 6.87045955657959, 'eval_runtime': 0.2552, 'eval_samples_per_second': 442.723, 'eval_steps_per_second': 39.179, 'epoch': 8.22}\n"
     ]
    },
    {
     "name": "stderr",
     "output_type": "stream",
     "text": [
      "                                                   \n",
      " 83%|████████▎ | 1301/1570 [03:06<00:52,  5.13it/s]"
     ]
    },
    {
     "name": "stdout",
     "output_type": "stream",
     "text": [
      "{'eval_loss': 6.899067401885986, 'eval_runtime': 0.2568, 'eval_samples_per_second': 440.084, 'eval_steps_per_second': 38.946, 'epoch': 8.28}\n"
     ]
    },
    {
     "name": "stderr",
     "output_type": "stream",
     "text": [
      "                                                   \n",
      " 84%|████████▎ | 1311/1570 [03:07<00:50,  5.15it/s]"
     ]
    },
    {
     "name": "stdout",
     "output_type": "stream",
     "text": [
      "{'eval_loss': 6.823046684265137, 'eval_runtime': 0.255, 'eval_samples_per_second': 443.093, 'eval_steps_per_second': 39.212, 'epoch': 8.34}\n"
     ]
    },
    {
     "name": "stderr",
     "output_type": "stream",
     "text": [
      "                                                   \n",
      " 84%|████████▍ | 1321/1570 [03:09<00:48,  5.14it/s]"
     ]
    },
    {
     "name": "stdout",
     "output_type": "stream",
     "text": [
      "{'eval_loss': 6.886135578155518, 'eval_runtime': 0.2553, 'eval_samples_per_second': 442.579, 'eval_steps_per_second': 39.166, 'epoch': 8.41}\n"
     ]
    },
    {
     "name": "stderr",
     "output_type": "stream",
     "text": [
      "                                                   \n",
      " 85%|████████▍ | 1331/1570 [03:10<00:46,  5.14it/s]"
     ]
    },
    {
     "name": "stdout",
     "output_type": "stream",
     "text": [
      "{'eval_loss': 6.895848274230957, 'eval_runtime': 0.2567, 'eval_samples_per_second': 440.27, 'eval_steps_per_second': 38.962, 'epoch': 8.47}\n"
     ]
    },
    {
     "name": "stderr",
     "output_type": "stream",
     "text": [
      "                                                   \n",
      " 85%|████████▌ | 1341/1570 [03:12<00:44,  5.14it/s]"
     ]
    },
    {
     "name": "stdout",
     "output_type": "stream",
     "text": [
      "{'eval_loss': 7.021554946899414, 'eval_runtime': 0.2548, 'eval_samples_per_second': 443.428, 'eval_steps_per_second': 39.241, 'epoch': 8.54}\n"
     ]
    },
    {
     "name": "stderr",
     "output_type": "stream",
     "text": [
      "                                                   \n",
      " 86%|████████▌ | 1351/1570 [03:13<00:42,  5.14it/s]"
     ]
    },
    {
     "name": "stdout",
     "output_type": "stream",
     "text": [
      "{'eval_loss': 6.990478515625, 'eval_runtime': 0.2548, 'eval_samples_per_second': 443.414, 'eval_steps_per_second': 39.24, 'epoch': 8.6}\n"
     ]
    },
    {
     "name": "stderr",
     "output_type": "stream",
     "text": [
      "                                                   \n",
      " 87%|████████▋ | 1361/1570 [03:14<00:40,  5.14it/s]"
     ]
    },
    {
     "name": "stdout",
     "output_type": "stream",
     "text": [
      "{'eval_loss': 6.8955583572387695, 'eval_runtime': 0.2567, 'eval_samples_per_second': 440.143, 'eval_steps_per_second': 38.951, 'epoch': 8.66}\n"
     ]
    },
    {
     "name": "stderr",
     "output_type": "stream",
     "text": [
      "                                                   \n",
      " 87%|████████▋ | 1371/1570 [03:16<00:38,  5.11it/s]"
     ]
    },
    {
     "name": "stdout",
     "output_type": "stream",
     "text": [
      "{'eval_loss': 6.9903669357299805, 'eval_runtime': 0.2557, 'eval_samples_per_second': 441.901, 'eval_steps_per_second': 39.106, 'epoch': 8.73}\n"
     ]
    },
    {
     "name": "stderr",
     "output_type": "stream",
     "text": [
      "                                                   \n",
      " 88%|████████▊ | 1381/1570 [03:17<00:36,  5.12it/s]"
     ]
    },
    {
     "name": "stdout",
     "output_type": "stream",
     "text": [
      "{'eval_loss': 6.980321884155273, 'eval_runtime': 0.2557, 'eval_samples_per_second': 442.001, 'eval_steps_per_second': 39.115, 'epoch': 8.79}\n"
     ]
    },
    {
     "name": "stderr",
     "output_type": "stream",
     "text": [
      "                                                   \n",
      " 89%|████████▊ | 1391/1570 [03:19<00:34,  5.16it/s]"
     ]
    },
    {
     "name": "stdout",
     "output_type": "stream",
     "text": [
      "{'eval_loss': 6.992917537689209, 'eval_runtime': 0.2549, 'eval_samples_per_second': 443.288, 'eval_steps_per_second': 39.229, 'epoch': 8.85}\n"
     ]
    },
    {
     "name": "stderr",
     "output_type": "stream",
     "text": [
      "                                                   \n",
      " 89%|████████▉ | 1401/1570 [03:20<00:32,  5.12it/s]"
     ]
    },
    {
     "name": "stdout",
     "output_type": "stream",
     "text": [
      "{'eval_loss': 6.987263202667236, 'eval_runtime': 0.2577, 'eval_samples_per_second': 438.551, 'eval_steps_per_second': 38.81, 'epoch': 8.92}\n"
     ]
    },
    {
     "name": "stderr",
     "output_type": "stream",
     "text": [
      "                                                   \n",
      " 90%|████████▉ | 1411/1570 [03:21<00:31,  5.12it/s]"
     ]
    },
    {
     "name": "stdout",
     "output_type": "stream",
     "text": [
      "{'eval_loss': 6.84885311126709, 'eval_runtime': 0.2572, 'eval_samples_per_second': 439.374, 'eval_steps_per_second': 38.883, 'epoch': 8.98}\n"
     ]
    },
    {
     "name": "stderr",
     "output_type": "stream",
     "text": [
      "                                                   \n",
      " 91%|█████████ | 1421/1570 [03:23<00:28,  5.17it/s]"
     ]
    },
    {
     "name": "stdout",
     "output_type": "stream",
     "text": [
      "{'eval_loss': 6.897971153259277, 'eval_runtime': 0.2558, 'eval_samples_per_second': 441.753, 'eval_steps_per_second': 39.093, 'epoch': 9.04}\n"
     ]
    },
    {
     "name": "stderr",
     "output_type": "stream",
     "text": [
      "                                                   \n",
      " 91%|█████████ | 1431/1570 [03:24<00:27,  5.15it/s]"
     ]
    },
    {
     "name": "stdout",
     "output_type": "stream",
     "text": [
      "{'eval_loss': 6.907130241394043, 'eval_runtime': 0.255, 'eval_samples_per_second': 443.106, 'eval_steps_per_second': 39.213, 'epoch': 9.11}\n"
     ]
    },
    {
     "name": "stderr",
     "output_type": "stream",
     "text": [
      "                                                   \n",
      " 92%|█████████▏| 1441/1570 [03:25<00:25,  5.10it/s]"
     ]
    },
    {
     "name": "stdout",
     "output_type": "stream",
     "text": [
      "{'eval_loss': 6.907013893127441, 'eval_runtime': 0.2593, 'eval_samples_per_second': 435.783, 'eval_steps_per_second': 38.565, 'epoch': 9.17}\n"
     ]
    },
    {
     "name": "stderr",
     "output_type": "stream",
     "text": [
      "                                                   \n",
      " 92%|█████████▏| 1451/1570 [03:27<00:23,  5.14it/s]"
     ]
    },
    {
     "name": "stdout",
     "output_type": "stream",
     "text": [
      "{'eval_loss': 7.005363941192627, 'eval_runtime': 0.2551, 'eval_samples_per_second': 443.007, 'eval_steps_per_second': 39.204, 'epoch': 9.24}\n"
     ]
    },
    {
     "name": "stderr",
     "output_type": "stream",
     "text": [
      "                                                   \n",
      " 93%|█████████▎| 1461/1570 [03:28<00:21,  5.09it/s]"
     ]
    },
    {
     "name": "stdout",
     "output_type": "stream",
     "text": [
      "{'eval_loss': 6.906954765319824, 'eval_runtime': 0.2575, 'eval_samples_per_second': 438.756, 'eval_steps_per_second': 38.828, 'epoch': 9.3}\n"
     ]
    },
    {
     "name": "stderr",
     "output_type": "stream",
     "text": [
      "                                                   \n",
      " 94%|█████████▎| 1471/1570 [03:30<00:19,  5.13it/s]"
     ]
    },
    {
     "name": "stdout",
     "output_type": "stream",
     "text": [
      "{'eval_loss': 6.9070305824279785, 'eval_runtime': 0.2559, 'eval_samples_per_second': 441.653, 'eval_steps_per_second': 39.084, 'epoch': 9.36}\n"
     ]
    },
    {
     "name": "stderr",
     "output_type": "stream",
     "text": [
      "                                                   \n",
      " 94%|█████████▍| 1481/1570 [03:31<00:17,  5.13it/s]"
     ]
    },
    {
     "name": "stdout",
     "output_type": "stream",
     "text": [
      "{'eval_loss': 6.929174423217773, 'eval_runtime': 0.2562, 'eval_samples_per_second': 441.042, 'eval_steps_per_second': 39.03, 'epoch': 9.43}\n"
     ]
    },
    {
     "name": "stderr",
     "output_type": "stream",
     "text": [
      "                                                   \n",
      " 95%|█████████▍| 1491/1570 [03:32<00:15,  5.11it/s]"
     ]
    },
    {
     "name": "stdout",
     "output_type": "stream",
     "text": [
      "{'eval_loss': 7.05897331237793, 'eval_runtime': 0.257, 'eval_samples_per_second': 439.667, 'eval_steps_per_second': 38.909, 'epoch': 9.49}\n"
     ]
    },
    {
     "name": "stderr",
     "output_type": "stream",
     "text": [
      " 96%|█████████▌| 1500/1570 [03:33<00:08,  8.54it/s]"
     ]
    },
    {
     "name": "stdout",
     "output_type": "stream",
     "text": [
      "{'loss': 6.4757, 'learning_rate': 2.590145100929975e-06, 'epoch': 9.55}\n"
     ]
    },
    {
     "name": "stderr",
     "output_type": "stream",
     "text": [
      "                                                   \n",
      " 96%|█████████▌| 1500/1570 [03:34<00:08,  8.54it/s]"
     ]
    },
    {
     "name": "stdout",
     "output_type": "stream",
     "text": [
      "{'eval_loss': 6.874381065368652, 'eval_runtime': 0.2565, 'eval_samples_per_second': 440.626, 'eval_steps_per_second': 38.993, 'epoch': 9.55}\n"
     ]
    },
    {
     "name": "stderr",
     "output_type": "stream",
     "text": [
      "                                                   \n",
      " 96%|█████████▌| 1511/1570 [03:37<00:12,  4.74it/s]"
     ]
    },
    {
     "name": "stdout",
     "output_type": "stream",
     "text": [
      "{'eval_loss': 6.87335205078125, 'eval_runtime': 0.2547, 'eval_samples_per_second': 443.746, 'eval_steps_per_second': 39.27, 'epoch': 9.62}\n"
     ]
    },
    {
     "name": "stderr",
     "output_type": "stream",
     "text": [
      "                                                   \n",
      " 97%|█████████▋| 1521/1570 [03:39<00:09,  5.08it/s]"
     ]
    },
    {
     "name": "stdout",
     "output_type": "stream",
     "text": [
      "{'eval_loss': 7.0775957107543945, 'eval_runtime': 0.259, 'eval_samples_per_second': 436.226, 'eval_steps_per_second': 38.604, 'epoch': 9.68}\n"
     ]
    },
    {
     "name": "stderr",
     "output_type": "stream",
     "text": [
      "                                                   \n",
      " 98%|█████████▊| 1531/1570 [03:40<00:07,  5.08it/s]"
     ]
    },
    {
     "name": "stdout",
     "output_type": "stream",
     "text": [
      "{'eval_loss': 7.081809997558594, 'eval_runtime': 0.2587, 'eval_samples_per_second': 436.8, 'eval_steps_per_second': 38.655, 'epoch': 9.75}\n"
     ]
    },
    {
     "name": "stderr",
     "output_type": "stream",
     "text": [
      "                                                   \n",
      " 98%|█████████▊| 1541/1570 [03:41<00:05,  5.09it/s]"
     ]
    },
    {
     "name": "stdout",
     "output_type": "stream",
     "text": [
      "{'eval_loss': 6.988388538360596, 'eval_runtime': 0.2573, 'eval_samples_per_second': 439.173, 'eval_steps_per_second': 38.865, 'epoch': 9.81}\n"
     ]
    },
    {
     "name": "stderr",
     "output_type": "stream",
     "text": [
      "                                                   \n",
      " 99%|█████████▉| 1551/1570 [03:43<00:03,  5.14it/s]"
     ]
    },
    {
     "name": "stdout",
     "output_type": "stream",
     "text": [
      "{'eval_loss': 7.057159900665283, 'eval_runtime': 0.2563, 'eval_samples_per_second': 440.887, 'eval_steps_per_second': 39.017, 'epoch': 9.87}\n"
     ]
    },
    {
     "name": "stderr",
     "output_type": "stream",
     "text": [
      "                                                   \n",
      " 99%|█████████▉| 1561/1570 [03:44<00:01,  5.08it/s]"
     ]
    },
    {
     "name": "stdout",
     "output_type": "stream",
     "text": [
      "{'eval_loss': 7.024813175201416, 'eval_runtime': 0.2596, 'eval_samples_per_second': 435.306, 'eval_steps_per_second': 38.523, 'epoch': 9.94}\n"
     ]
    },
    {
     "name": "stderr",
     "output_type": "stream",
     "text": [
      "                                                   \n",
      "100%|██████████| 1570/1570 [03:45<00:00,  6.95it/s]"
     ]
    },
    {
     "name": "stdout",
     "output_type": "stream",
     "text": [
      "{'eval_loss': 6.990670680999756, 'eval_runtime': 0.2567, 'eval_samples_per_second': 440.139, 'eval_steps_per_second': 38.95, 'epoch': 10.0}\n",
      "{'train_runtime': 225.9665, 'train_samples_per_second': 82.888, 'train_steps_per_second': 6.948, 'train_loss': 6.5342181940746915, 'epoch': 10.0}\n"
     ]
    },
    {
     "name": "stderr",
     "output_type": "stream",
     "text": [
      "\n"
     ]
    },
    {
     "data": {
      "text/plain": [
       "TrainOutput(global_step=1570, training_loss=6.5342181940746915, metrics={'train_runtime': 225.9665, 'train_samples_per_second': 82.888, 'train_steps_per_second': 6.948, 'train_loss': 6.5342181940746915, 'epoch': 10.0})"
      ]
     },
     "execution_count": 6,
     "metadata": {},
     "output_type": "execute_result"
    }
   ],
   "source": [
    "# data_collator = DataCollatorForLanguageModeling(tokenizer, mlm=False)\n",
    "data_collator = DataCollatorForLanguageModeling(tokenizer, mlm=True)\n",
    "\n",
    "args = TrainingArguments(\n",
    "    output_dir=\"codeparrot-ds\",\n",
    "    per_device_train_batch_size=12,\n",
    "    per_device_eval_batch_size=12,\n",
    "    evaluation_strategy=\"steps\",\n",
    "    eval_steps=20,\n",
    "    num_train_epochs=10,\n",
    "    weight_decay=0.1,\n",
    "    lr_scheduler_type=\"cosine\",\n",
    "    learning_rate=5e-3,\n",
    "    fp16=True\n",
    ")\n",
    "\n",
    "trainer = Trainer(\n",
    "    model=model,\n",
    "    tokenizer=tokenizer,\n",
    "    args=args,\n",
    "    data_collator=data_collator,\n",
    "    train_dataset=tokenized_datasets[\"train\"],\n",
    "    eval_dataset=tokenized_datasets[\"validation\"],\n",
    ")\n",
    "empty_cache()\n",
    "trainer.train()"
   ]
  },
  {
   "attachments": {},
   "cell_type": "markdown",
   "metadata": {},
   "source": []
  }
 ],
 "metadata": {
  "kernelspec": {
   "display_name": "Python 3",
   "language": "python",
   "name": "python3"
  },
  "language_info": {
   "codemirror_mode": {
    "name": "ipython",
    "version": 3
   },
   "file_extension": ".py",
   "mimetype": "text/x-python",
   "name": "python",
   "nbconvert_exporter": "python",
   "pygments_lexer": "ipython3",
   "version": "3.10.6"
  },
  "orig_nbformat": 4
 },
 "nbformat": 4,
 "nbformat_minor": 2
}
